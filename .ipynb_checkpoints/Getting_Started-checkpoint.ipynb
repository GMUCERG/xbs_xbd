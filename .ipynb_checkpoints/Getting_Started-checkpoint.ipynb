{
 "cells": [
  {
   "cell_type": "markdown",
   "metadata": {},
   "source": [
    "Startup stuff, sourced from `startup.ipy`"
   ]
  },
  {
   "cell_type": "code",
   "execution_count": 1,
   "metadata": {
    "collapsed": false
   },
   "outputs": [],
   "source": [
    "# %load startup.ipy\n",
    "#! /usr/bin/env python3\n",
    "\n",
    "import sys\n",
    "sys.path.append('./python')\n",
    "\n",
    "import logging.config\n",
    "import os\n",
    "\n",
    "import xbx.database as xbxdb\n",
    "import xbx.util as xbxu\n",
    "import xbx.config as xbxc\n",
    "import xbx.build as xbxb\n",
    "import xbx.run as xbxr\n",
    "\n",
    "logging.config.fileConfig(\"logging.ini\", disable_existing_loggers=False)\n",
    "\n",
    "CONFIG_PATH=\"config.ini\"\n",
    "\n",
    "xbxdb.init(xbxu.get_db_path(CONFIG_PATH))\n",
    "config = xbxc.Config(CONFIG_PATH)\n",
    "\n",
    "dbsession = xbxdb.scoped_session()\n"
   ]
  },
  {
   "cell_type": "markdown",
   "metadata": {},
   "source": [
    "List RunSessions, ordered by descending timestamp"
   ]
  },
  {
   "cell_type": "code",
   "execution_count": 2,
   "metadata": {
    "collapsed": false
   },
   "outputs": [
    {
     "name": "stdout",
     "output_type": "stream",
     "text": [
      "[datetime.datetime(2015, 4, 23, 21, 47, 28, 380382), datetime.datetime(2015, 4, 23, 21, 26, 16, 946288), datetime.datetime(2015, 4, 23, 18, 2, 52, 424848), datetime.datetime(2015, 4, 23, 16, 23, 9, 976050)]\n"
     ]
    }
   ],
   "source": [
    "s=dbsession\n",
    "l = s.query(xbxr.RunSession).order_by(xbxr.RunSession.timestamp.desc())\n",
    "print([i.timestamp for i in l])"
   ]
  },
  {
   "cell_type": "markdown",
   "metadata": {},
   "source": [
    "Print latest RunSession"
   ]
  },
  {
   "cell_type": "code",
   "execution_count": 3,
   "metadata": {
    "collapsed": false
   },
   "outputs": [
    {
     "name": "stdout",
     "output_type": "stream",
     "text": [
      "({'build_session_id': 6, 'config_hash': '138ef15dc44352639f075725a5383718e4fd7fbdd45bc2734c3434853a5a034d', 'host': 'zeus', 'id': 4, 'timestamp': datetime.datetime(2015, 4, 23, 21, 47, 28, 380382), 'xbh_mac': '001AB602D065', 'xbh_rev': 'e57b1b6', 'xbx_version': '64f5f13933a20c312b2ed5726e7f26953b7bf69b'}, ['drift_measurements', 'build_execs', 'build_session', 'config'])\n"
     ]
    }
   ],
   "source": [
    "rs=l.first()\n",
    "print(rs)"
   ]
  },
  {
   "cell_type": "markdown",
   "metadata": {},
   "source": [
    "We have overridden the `__repr__` function in the base class for SqlAlchemy tables to print out the type, a dictionary of contents, and a list of relations.\n",
    "\n",
    "Let's print out all build executions:"
   ]
  },
  {
   "cell_type": "code",
   "execution_count": 4,
   "metadata": {
    "collapsed": false
   },
   "outputs": [
    {
     "name": "stdout",
     "output_type": "stream",
     "text": [
      "[({'build_id': 20, 'id': 6, 'run_session_id': 4, 'test_ok': True}, ['build', 'runs', 'run_session']), ({'build_id': 21, 'id': 8, 'run_session_id': 4, 'test_ok': False}, ['build', 'runs', 'run_session']), ({'build_id': 22, 'id': 7, 'run_session_id': 4, 'test_ok': False}, ['build', 'runs', 'run_session']), ({'build_id': 23, 'id': 9, 'run_session_id': 4, 'test_ok': True}, ['build', 'runs', 'run_session'])]\n"
     ]
    }
   ],
   "source": [
    "print([i for i in rs.build_execs])"
   ]
  },
  {
   "cell_type": "markdown",
   "metadata": {},
   "source": [
    "Not much information here. Let's print out information on the builds associated with the build executions:"
   ]
  },
  {
   "cell_type": "code",
   "execution_count": 5,
   "metadata": {
    "collapsed": false
   },
   "outputs": [
    {
     "name": "stdout",
     "output_type": "stream",
     "text": [
      "[(({'build_id': 20, 'id': 6, 'run_session_id': 4, 'test_ok': True}, ['build', 'runs', 'run_session']), ({'bss': 5320, 'build_ok': True, 'build_session_id': 6, 'compiler_idx': 0, 'data': 0, 'exe_path': 'ek-tm4c123gxl_16mhz/crypto_aead/0cipher/empty/0/xbdprog.bin', 'hex_checksum': '543c6c94056482ac551f46579b6c185a2ee2e3b33fe8d08af334e71c84f44a12', 'hex_path': 'ek-tm4c123gxl_16mhz/crypto_aead/0cipher/empty/0/xbdprog.hex', 'id': 20, 'implementation_hash': '1709ac0c04e3657b91bce5f4c570627b89fc1cfd6c943f950b8cade256ef05ec', 'log': b'LINK\\nPOSTLINK\\n', 'operation_name': 'crypto_aead', 'parallel_make': False, 'platform_hash': '4315375386478985adb47e513968dc493b5731b2b8c24c1f91ef6abbc146b4e7', 'primitive_name': '0cipher', 'rebuilt': True, 'text': 14380, 'timestamp': datetime.datetime(2015, 4, 23, 21, 47, 18, 61548), 'work_path': 'ek-tm4c123gxl_16mhz/crypto_aead/0cipher/empty/0'}, ['platform', 'compiler', 'operation', 'primitive', 'implementation', 'build_session'])), (({'build_id': 21, 'id': 8, 'run_session_id': 4, 'test_ok': False}, ['build', 'runs', 'run_session']), ({'bss': 5336, 'build_ok': True, 'build_session_id': 6, 'compiler_idx': 0, 'data': 0, 'exe_path': 'ek-tm4c123gxl_16mhz/crypto_aead/aes256gcmv1/ref/0/xbdprog.bin', 'hex_checksum': 'a3d8c4c450af1e08f45ac8dffeb092bb9fb0931a309c4097ba78db4a47b9dc60', 'hex_path': 'ek-tm4c123gxl_16mhz/crypto_aead/aes256gcmv1/ref/0/xbdprog.hex', 'id': 21, 'implementation_hash': 'e73388bbbdfc7a5e80b2bcc35674314ae9aea7273aed7e78c55cea2fcaf7c3de', 'log': b'LINK\\nPOSTLINK\\n', 'operation_name': 'crypto_aead', 'parallel_make': False, 'platform_hash': '4315375386478985adb47e513968dc493b5731b2b8c24c1f91ef6abbc146b4e7', 'primitive_name': 'aes256gcmv1', 'rebuilt': True, 'text': 22564, 'timestamp': datetime.datetime(2015, 4, 23, 21, 47, 18, 194234), 'work_path': 'ek-tm4c123gxl_16mhz/crypto_aead/aes256gcmv1/ref/0'}, ['platform', 'compiler', 'operation', 'primitive', 'implementation', 'build_session'])), (({'build_id': 22, 'id': 7, 'run_session_id': 4, 'test_ok': False}, ['build', 'runs', 'run_session']), ({'bss': 5336, 'build_ok': True, 'build_session_id': 6, 'compiler_idx': 0, 'data': 0, 'exe_path': 'ek-tm4c123gxl_16mhz/crypto_aead/aes128gcmv1/ref/0/xbdprog.bin', 'hex_checksum': '66c948a0b1090427a17d47bba13bf710ccc3802c482927c383c7ae37979ac854', 'hex_path': 'ek-tm4c123gxl_16mhz/crypto_aead/aes128gcmv1/ref/0/xbdprog.hex', 'id': 22, 'implementation_hash': 'dbf498177a558fbff4e146982878b03e4de8d9a0b85edb4aba9171e59295d869', 'log': b'CC  /home/john/thesis/xbx/embedded/xbd/xbd_af/try-anything.c\\nCC  /home/john/thesis/xbx/embedded/xbd/xbd_af/XBD_crc.c\\nCC  /home/john/thesis/xbx/embedded/xbd/xbd_af/XBD_commands.c\\nCC  /home/john/thesis/xbx/embedded/xbd/xbd_af/XBD_OH_test.c\\nCC  /home/john/thesis/xbx/embedded/xbd/xbd_af/XBD_debug.c\\nCC  /home/john/thesis/xbx/embedded/xbd/xbd_af/XBD_util.c\\nCC  /home/john/thesis/xbx/embedded/xbd/xbd_app/XBD_multipacket.c\\nCC  /home/john/thesis/xbx/embedded/xbd/xbd_app/XBD_APP.c\\nCC  /home/john/thesis/xbx/embedded/xbd/xbd_op/crypto_aead/XBD_OH.c\\nCC  /home/john/thesis/xbx/embedded/xbd/xbd_op/crypto_aead/try.c\\nCC  /home/john/thesis/xbx/algobase/crypto_aead/aes128gcmv1/ref/encrypt.c\\nCC  /home/john/thesis/xbx/algobase/crypto_verify/16/ref/verify.c\\nCC  /home/john/thesis/xbx/algobase/crypto_core/aes128encrypt/ref/core.c\\nLINK\\nPOSTLINK\\n', 'operation_name': 'crypto_aead', 'parallel_make': False, 'platform_hash': '4315375386478985adb47e513968dc493b5731b2b8c24c1f91ef6abbc146b4e7', 'primitive_name': 'aes128gcmv1', 'rebuilt': True, 'text': 22468, 'timestamp': datetime.datetime(2015, 4, 23, 21, 47, 18, 453473), 'work_path': 'ek-tm4c123gxl_16mhz/crypto_aead/aes128gcmv1/ref/0'}, ['platform', 'compiler', 'operation', 'primitive', 'implementation', 'build_session'])), (({'build_id': 23, 'id': 9, 'run_session_id': 4, 'test_ok': True}, ['build', 'runs', 'run_session']), ({'bss': 5320, 'build_ok': True, 'build_session_id': 6, 'compiler_idx': 0, 'data': 0, 'exe_path': 'ek-tm4c123gxl_16mhz/crypto_aead/icepole128v1/ref/0/xbdprog.bin', 'hex_checksum': 'a09d0ed1f5df6df5cb13fa0a7234e0e7f30eb05e8bf5c06b579f4be82b2cea15', 'hex_path': 'ek-tm4c123gxl_16mhz/crypto_aead/icepole128v1/ref/0/xbdprog.hex', 'id': 23, 'implementation_hash': 'c05a01689d79fca13908d316cbf33f52604daa122d16f0779b6228507f643374', 'log': b'LINK\\nPOSTLINK\\n', 'operation_name': 'crypto_aead', 'parallel_make': False, 'platform_hash': '4315375386478985adb47e513968dc493b5731b2b8c24c1f91ef6abbc146b4e7', 'primitive_name': 'icepole128v1', 'rebuilt': True, 'text': 20632, 'timestamp': datetime.datetime(2015, 4, 23, 21, 47, 18, 601548), 'work_path': 'ek-tm4c123gxl_16mhz/crypto_aead/icepole128v1/ref/0'}, ['platform', 'compiler', 'operation', 'primitive', 'implementation', 'build_session']))]\n"
     ]
    }
   ],
   "source": [
    "print([(i, i.build) for i in rs.build_execs])"
   ]
  },
  {
   "cell_type": "markdown",
   "metadata": {},
   "source": [
    "Not very readable. Let's use prettyprint:"
   ]
  },
  {
   "cell_type": "code",
   "execution_count": 6,
   "metadata": {
    "collapsed": false
   },
   "outputs": [
    {
     "name": "stdout",
     "output_type": "stream",
     "text": [
      "[   (   ({'build_id': 20, 'id': 6, 'run_session_id': 4, 'test_ok': True}, ['build', 'runs', 'run_session']),\n",
      "        ({'bss': 5320, 'build_ok': True, 'build_session_id': 6, 'compiler_idx': 0, 'data': 0, 'exe_path': 'ek-tm4c123gxl_16mhz/crypto_aead/0cipher/empty/0/xbdprog.bin', 'hex_checksum': '543c6c94056482ac551f46579b6c185a2ee2e3b33fe8d08af334e71c84f44a12', 'hex_path': 'ek-tm4c123gxl_16mhz/crypto_aead/0cipher/empty/0/xbdprog.hex', 'id': 20, 'implementation_hash': '1709ac0c04e3657b91bce5f4c570627b89fc1cfd6c943f950b8cade256ef05ec', 'log': b'LINK\\nPOSTLINK\\n', 'operation_name': 'crypto_aead', 'parallel_make': False, 'platform_hash': '4315375386478985adb47e513968dc493b5731b2b8c24c1f91ef6abbc146b4e7', 'primitive_name': '0cipher', 'rebuilt': True, 'text': 14380, 'timestamp': datetime.datetime(2015, 4, 23, 21, 47, 18, 61548), 'work_path': 'ek-tm4c123gxl_16mhz/crypto_aead/0cipher/empty/0'}, ['platform', 'compiler', 'operation', 'primitive', 'implementation', 'build_session'])),\n",
      "    (   ({'build_id': 21, 'id': 8, 'run_session_id': 4, 'test_ok': False}, ['build', 'runs', 'run_session']),\n",
      "        ({'bss': 5336, 'build_ok': True, 'build_session_id': 6, 'compiler_idx': 0, 'data': 0, 'exe_path': 'ek-tm4c123gxl_16mhz/crypto_aead/aes256gcmv1/ref/0/xbdprog.bin', 'hex_checksum': 'a3d8c4c450af1e08f45ac8dffeb092bb9fb0931a309c4097ba78db4a47b9dc60', 'hex_path': 'ek-tm4c123gxl_16mhz/crypto_aead/aes256gcmv1/ref/0/xbdprog.hex', 'id': 21, 'implementation_hash': 'e73388bbbdfc7a5e80b2bcc35674314ae9aea7273aed7e78c55cea2fcaf7c3de', 'log': b'LINK\\nPOSTLINK\\n', 'operation_name': 'crypto_aead', 'parallel_make': False, 'platform_hash': '4315375386478985adb47e513968dc493b5731b2b8c24c1f91ef6abbc146b4e7', 'primitive_name': 'aes256gcmv1', 'rebuilt': True, 'text': 22564, 'timestamp': datetime.datetime(2015, 4, 23, 21, 47, 18, 194234), 'work_path': 'ek-tm4c123gxl_16mhz/crypto_aead/aes256gcmv1/ref/0'}, ['platform', 'compiler', 'operation', 'primitive', 'implementation', 'build_session'])),\n",
      "    (   ({'build_id': 22, 'id': 7, 'run_session_id': 4, 'test_ok': False}, ['build', 'runs', 'run_session']),\n",
      "        ({'bss': 5336, 'build_ok': True, 'build_session_id': 6, 'compiler_idx': 0, 'data': 0, 'exe_path': 'ek-tm4c123gxl_16mhz/crypto_aead/aes128gcmv1/ref/0/xbdprog.bin', 'hex_checksum': '66c948a0b1090427a17d47bba13bf710ccc3802c482927c383c7ae37979ac854', 'hex_path': 'ek-tm4c123gxl_16mhz/crypto_aead/aes128gcmv1/ref/0/xbdprog.hex', 'id': 22, 'implementation_hash': 'dbf498177a558fbff4e146982878b03e4de8d9a0b85edb4aba9171e59295d869', 'log': b'CC  /home/john/thesis/xbx/embedded/xbd/xbd_af/try-anything.c\\nCC  /home/john/thesis/xbx/embedded/xbd/xbd_af/XBD_crc.c\\nCC  /home/john/thesis/xbx/embedded/xbd/xbd_af/XBD_commands.c\\nCC  /home/john/thesis/xbx/embedded/xbd/xbd_af/XBD_OH_test.c\\nCC  /home/john/thesis/xbx/embedded/xbd/xbd_af/XBD_debug.c\\nCC  /home/john/thesis/xbx/embedded/xbd/xbd_af/XBD_util.c\\nCC  /home/john/thesis/xbx/embedded/xbd/xbd_app/XBD_multipacket.c\\nCC  /home/john/thesis/xbx/embedded/xbd/xbd_app/XBD_APP.c\\nCC  /home/john/thesis/xbx/embedded/xbd/xbd_op/crypto_aead/XBD_OH.c\\nCC  /home/john/thesis/xbx/embedded/xbd/xbd_op/crypto_aead/try.c\\nCC  /home/john/thesis/xbx/algobase/crypto_aead/aes128gcmv1/ref/encrypt.c\\nCC  /home/john/thesis/xbx/algobase/crypto_verify/16/ref/verify.c\\nCC  /home/john/thesis/xbx/algobase/crypto_core/aes128encrypt/ref/core.c\\nLINK\\nPOSTLINK\\n', 'operation_name': 'crypto_aead', 'parallel_make': False, 'platform_hash': '4315375386478985adb47e513968dc493b5731b2b8c24c1f91ef6abbc146b4e7', 'primitive_name': 'aes128gcmv1', 'rebuilt': True, 'text': 22468, 'timestamp': datetime.datetime(2015, 4, 23, 21, 47, 18, 453473), 'work_path': 'ek-tm4c123gxl_16mhz/crypto_aead/aes128gcmv1/ref/0'}, ['platform', 'compiler', 'operation', 'primitive', 'implementation', 'build_session'])),\n",
      "    (   ({'build_id': 23, 'id': 9, 'run_session_id': 4, 'test_ok': True}, ['build', 'runs', 'run_session']),\n",
      "        ({'bss': 5320, 'build_ok': True, 'build_session_id': 6, 'compiler_idx': 0, 'data': 0, 'exe_path': 'ek-tm4c123gxl_16mhz/crypto_aead/icepole128v1/ref/0/xbdprog.bin', 'hex_checksum': 'a09d0ed1f5df6df5cb13fa0a7234e0e7f30eb05e8bf5c06b579f4be82b2cea15', 'hex_path': 'ek-tm4c123gxl_16mhz/crypto_aead/icepole128v1/ref/0/xbdprog.hex', 'id': 23, 'implementation_hash': 'c05a01689d79fca13908d316cbf33f52604daa122d16f0779b6228507f643374', 'log': b'LINK\\nPOSTLINK\\n', 'operation_name': 'crypto_aead', 'parallel_make': False, 'platform_hash': '4315375386478985adb47e513968dc493b5731b2b8c24c1f91ef6abbc146b4e7', 'primitive_name': 'icepole128v1', 'rebuilt': True, 'text': 20632, 'timestamp': datetime.datetime(2015, 4, 23, 21, 47, 18, 601548), 'work_path': 'ek-tm4c123gxl_16mhz/crypto_aead/icepole128v1/ref/0'}, ['platform', 'compiler', 'operation', 'primitive', 'implementation', 'build_session']))]\n"
     ]
    }
   ],
   "source": [
    "import pprint\n",
    "pp = pprint.PrettyPrinter(indent=4)\n",
    "pp.pprint([(i, i.build) for i in rs.build_execs])"
   ]
  },
  {
   "cell_type": "markdown",
   "metadata": {},
   "source": [
    "Better, but not good. The overridden repr implementation is supposed to be `eval`able. Note that we need to import datetime and call repr explicitly. Let's try:"
   ]
  },
  {
   "cell_type": "code",
   "execution_count": 7,
   "metadata": {
    "collapsed": false
   },
   "outputs": [
    {
     "name": "stdout",
     "output_type": "stream",
     "text": [
      "[   (   (   {'build_id': 20, 'id': 6, 'run_session_id': 4, 'test_ok': True},\n",
      "            ['build', 'runs', 'run_session']),\n",
      "        (   {   'bss': 5320,\n",
      "                'build_ok': True,\n",
      "                'build_session_id': 6,\n",
      "                'compiler_idx': 0,\n",
      "                'data': 0,\n",
      "                'exe_path': 'ek-tm4c123gxl_16mhz/crypto_aead/0cipher/empty/0/xbdprog.bin',\n",
      "                'hex_checksum': '543c6c94056482ac551f46579b6c185a2ee2e3b33fe8d08af334e71c84f44a12',\n",
      "                'hex_path': 'ek-tm4c123gxl_16mhz/crypto_aead/0cipher/empty/0/xbdprog.hex',\n",
      "                'id': 20,\n",
      "                'implementation_hash': '1709ac0c04e3657b91bce5f4c570627b89fc1cfd6c943f950b8cade256ef05ec',\n",
      "                'log': b'LINK\\nPOSTLINK\\n',\n",
      "                'operation_name': 'crypto_aead',\n",
      "                'parallel_make': False,\n",
      "                'platform_hash': '4315375386478985adb47e513968dc493b5731b2b8c24c1f91ef6abbc146b4e7',\n",
      "                'primitive_name': '0cipher',\n",
      "                'rebuilt': True,\n",
      "                'text': 14380,\n",
      "                'timestamp': datetime.datetime(2015, 4, 23, 21, 47, 18, 61548),\n",
      "                'work_path': 'ek-tm4c123gxl_16mhz/crypto_aead/0cipher/empty/0'},\n",
      "            [   'platform',\n",
      "                'compiler',\n",
      "                'operation',\n",
      "                'primitive',\n",
      "                'implementation',\n",
      "                'build_session'])),\n",
      "    (   (   {'build_id': 21, 'id': 8, 'run_session_id': 4, 'test_ok': False},\n",
      "            ['build', 'runs', 'run_session']),\n",
      "        (   {   'bss': 5336,\n",
      "                'build_ok': True,\n",
      "                'build_session_id': 6,\n",
      "                'compiler_idx': 0,\n",
      "                'data': 0,\n",
      "                'exe_path': 'ek-tm4c123gxl_16mhz/crypto_aead/aes256gcmv1/ref/0/xbdprog.bin',\n",
      "                'hex_checksum': 'a3d8c4c450af1e08f45ac8dffeb092bb9fb0931a309c4097ba78db4a47b9dc60',\n",
      "                'hex_path': 'ek-tm4c123gxl_16mhz/crypto_aead/aes256gcmv1/ref/0/xbdprog.hex',\n",
      "                'id': 21,\n",
      "                'implementation_hash': 'e73388bbbdfc7a5e80b2bcc35674314ae9aea7273aed7e78c55cea2fcaf7c3de',\n",
      "                'log': b'LINK\\nPOSTLINK\\n',\n",
      "                'operation_name': 'crypto_aead',\n",
      "                'parallel_make': False,\n",
      "                'platform_hash': '4315375386478985adb47e513968dc493b5731b2b8c24c1f91ef6abbc146b4e7',\n",
      "                'primitive_name': 'aes256gcmv1',\n",
      "                'rebuilt': True,\n",
      "                'text': 22564,\n",
      "                'timestamp': datetime.datetime(2015, 4, 23, 21, 47, 18, 194234),\n",
      "                'work_path': 'ek-tm4c123gxl_16mhz/crypto_aead/aes256gcmv1/ref/0'},\n",
      "            [   'platform',\n",
      "                'compiler',\n",
      "                'operation',\n",
      "                'primitive',\n",
      "                'implementation',\n",
      "                'build_session'])),\n",
      "    (   (   {'build_id': 22, 'id': 7, 'run_session_id': 4, 'test_ok': False},\n",
      "            ['build', 'runs', 'run_session']),\n",
      "        (   {   'bss': 5336,\n",
      "                'build_ok': True,\n",
      "                'build_session_id': 6,\n",
      "                'compiler_idx': 0,\n",
      "                'data': 0,\n",
      "                'exe_path': 'ek-tm4c123gxl_16mhz/crypto_aead/aes128gcmv1/ref/0/xbdprog.bin',\n",
      "                'hex_checksum': '66c948a0b1090427a17d47bba13bf710ccc3802c482927c383c7ae37979ac854',\n",
      "                'hex_path': 'ek-tm4c123gxl_16mhz/crypto_aead/aes128gcmv1/ref/0/xbdprog.hex',\n",
      "                'id': 22,\n",
      "                'implementation_hash': 'dbf498177a558fbff4e146982878b03e4de8d9a0b85edb4aba9171e59295d869',\n",
      "                'log': b'CC  /home/john/thesis/xbx/embedded/xbd/xbd_af/try-anything.c\\nCC  /home/john/thesis/xbx/embedded/xbd/xbd_af/XBD_crc.c\\nCC  /home/john/thesis/xbx/embedded/xbd/xbd_af/XBD_commands.c\\nCC  /home/john/thesis/xbx/embedded/xbd/xbd_af/XBD_OH_test.c\\nCC  /home/john/thesis/xbx/embedded/xbd/xbd_af/XBD_debug.c\\nCC  /home/john/thesis/xbx/embedded/xbd/xbd_af/XBD_util.c\\nCC  /home/john/thesis/xbx/embedded/xbd/xbd_app/XBD_multipacket.c\\nCC  /home/john/thesis/xbx/embedded/xbd/xbd_app/XBD_APP.c\\nCC  /home/john/thesis/xbx/embedded/xbd/xbd_op/crypto_aead/XBD_OH.c\\nCC  /home/john/thesis/xbx/embedded/xbd/xbd_op/crypto_aead/try.c\\nCC  /home/john/thesis/xbx/algobase/crypto_aead/aes128gcmv1/ref/encrypt.c\\nCC  /home/john/thesis/xbx/algobase/crypto_verify/16/ref/verify.c\\nCC  /home/john/thesis/xbx/algobase/crypto_core/aes128encrypt/ref/core.c\\nLINK\\nPOSTLINK\\n',\n",
      "                'operation_name': 'crypto_aead',\n",
      "                'parallel_make': False,\n",
      "                'platform_hash': '4315375386478985adb47e513968dc493b5731b2b8c24c1f91ef6abbc146b4e7',\n",
      "                'primitive_name': 'aes128gcmv1',\n",
      "                'rebuilt': True,\n",
      "                'text': 22468,\n",
      "                'timestamp': datetime.datetime(2015, 4, 23, 21, 47, 18, 453473),\n",
      "                'work_path': 'ek-tm4c123gxl_16mhz/crypto_aead/aes128gcmv1/ref/0'},\n",
      "            [   'platform',\n",
      "                'compiler',\n",
      "                'operation',\n",
      "                'primitive',\n",
      "                'implementation',\n",
      "                'build_session'])),\n",
      "    (   (   {'build_id': 23, 'id': 9, 'run_session_id': 4, 'test_ok': True},\n",
      "            ['build', 'runs', 'run_session']),\n",
      "        (   {   'bss': 5320,\n",
      "                'build_ok': True,\n",
      "                'build_session_id': 6,\n",
      "                'compiler_idx': 0,\n",
      "                'data': 0,\n",
      "                'exe_path': 'ek-tm4c123gxl_16mhz/crypto_aead/icepole128v1/ref/0/xbdprog.bin',\n",
      "                'hex_checksum': 'a09d0ed1f5df6df5cb13fa0a7234e0e7f30eb05e8bf5c06b579f4be82b2cea15',\n",
      "                'hex_path': 'ek-tm4c123gxl_16mhz/crypto_aead/icepole128v1/ref/0/xbdprog.hex',\n",
      "                'id': 23,\n",
      "                'implementation_hash': 'c05a01689d79fca13908d316cbf33f52604daa122d16f0779b6228507f643374',\n",
      "                'log': b'LINK\\nPOSTLINK\\n',\n",
      "                'operation_name': 'crypto_aead',\n",
      "                'parallel_make': False,\n",
      "                'platform_hash': '4315375386478985adb47e513968dc493b5731b2b8c24c1f91ef6abbc146b4e7',\n",
      "                'primitive_name': 'icepole128v1',\n",
      "                'rebuilt': True,\n",
      "                'text': 20632,\n",
      "                'timestamp': datetime.datetime(2015, 4, 23, 21, 47, 18, 601548),\n",
      "                'work_path': 'ek-tm4c123gxl_16mhz/crypto_aead/icepole128v1/ref/0'},\n",
      "            [   'platform',\n",
      "                'compiler',\n",
      "                'operation',\n",
      "                'primitive',\n",
      "                'implementation',\n",
      "                'build_session']))]\n"
     ]
    }
   ],
   "source": [
    "import datetime\n",
    "pp.pprint([(eval(repr(i)), eval(repr(i.build))) for i in rs.build_execs])"
   ]
  },
  {
   "cell_type": "markdown",
   "metadata": {},
   "source": [
    "Much better. We can see the 0hash and icepole implementations succeeded but the 0hash implementation failed. The log is mostly empty since we've rebuilt and thus there's not much makefile output. \n",
    "\n",
    "We want to know why the aesgcm implementations failed. To do this, we must examine the runs relation."
   ]
  },
  {
   "cell_type": "code",
   "execution_count": 8,
   "metadata": {
    "collapsed": false
   },
   "outputs": [
    {
     "name": "stdout",
     "output_type": "stream",
     "text": [
      "({'avg_power': None, 'build_exec_id': 8, 'id': 941, 'max_power': None, 'measured_cycles': None, 'median_power': None, 'min_power': None, 'reported_cycles': None, 'run_type': 'test_run', 'stack_usage': None, 'time': None, 'timestamp': None, 'total_energy': None}, ['power_samples', 'build_exec'])\n",
      "({'avg_power': None, 'build_exec_id': 7, 'id': 940, 'max_power': None, 'measured_cycles': None, 'median_power': None, 'min_power': None, 'reported_cycles': None, 'run_type': 'test_run', 'stack_usage': None, 'time': None, 'timestamp': None, 'total_energy': None}, ['power_samples', 'build_exec'])\n"
     ]
    }
   ],
   "source": [
    "import datetime\n",
    "for i in rs.build_execs:\n",
    "    if not i.test_ok:\n",
    "        for j in i.runs:\n",
    "            print(j)"
   ]
  },
  {
   "cell_type": "markdown",
   "metadata": {},
   "source": [
    "Too much stuff. Let's clean it up:"
   ]
  },
  {
   "cell_type": "code",
   "execution_count": 9,
   "metadata": {
    "collapsed": false
   },
   "outputs": [
    {
     "name": "stdout",
     "output_type": "stream",
     "text": [
      "crypto_aead/aes256gcmv1/ref/0: Test failure: crypto_aead_encrypt does not handle a=c overlap\n",
      "crypto_aead/aes128gcmv1/ref/0: Test failure: crypto_aead_encrypt does not handle a=c overlap\n"
     ]
    }
   ],
   "source": [
    "import datetime\n",
    "for i in rs.build_execs:\n",
    "    if not i.test_ok:\n",
    "        for j in i.runs:\n",
    "            print('{}: {}'.format(i.build.buildid,j.checksumfail_cause))"
   ]
  },
  {
   "cell_type": "code",
   "execution_count": null,
   "metadata": {
    "collapsed": true
   },
   "outputs": [],
   "source": []
  }
 ],
 "metadata": {
  "kernelspec": {
   "display_name": "Python 3",
   "language": "python",
   "name": "python3"
  },
  "language_info": {
   "codemirror_mode": {
    "name": "ipython",
    "version": 3
   },
   "file_extension": ".py",
   "mimetype": "text/x-python",
   "name": "python",
   "nbconvert_exporter": "python",
   "pygments_lexer": "ipython3",
   "version": "3.4.3"
  }
 },
 "nbformat": 4,
 "nbformat_minor": 0
}
