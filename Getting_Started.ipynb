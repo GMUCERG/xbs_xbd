{
 "metadata": {
  "kernelspec": {
   "display_name": "Python 3",
   "language": "python",
   "name": "python3"
  },
  "language_info": {
   "codemirror_mode": {
    "name": "ipython",
    "version": 3
   },
   "file_extension": ".py",
   "mimetype": "text/x-python",
   "name": "python",
   "nbconvert_exporter": "python",
   "pygments_lexer": "ipython3",
   "version": "3.4.3"
  },
  "name": "",
  "signature": "sha256:20c84c01d74f39f2e77580779db0f47362e018343c1395dd16e14bbec8224690"
 },
 "nbformat": 3,
 "nbformat_minor": 0,
 "worksheets": [
  {
   "cells": [
    {
     "cell_type": "markdown",
     "metadata": {},
     "source": [
      "Startup stuff, sourced from `startup.ipy`"
     ]
    },
    {
     "cell_type": "code",
     "collapsed": false,
     "input": [
      "# %load startup.ipy\n",
      "#! /usr/bin/env python3\n",
      "\n",
      "import sys\n",
      "sys.path.append('./python')\n",
      "\n",
      "import logging.config\n",
      "import os\n",
      "\n",
      "import xbx.database as xbxdb\n",
      "import xbx.util as xbxu\n",
      "import xbx.config as xbxc\n",
      "import xbx.build as xbxb\n",
      "import xbx.run as xbxr\n",
      "\n",
      "logging.config.fileConfig(\"logging.ini\", disable_existing_loggers=False)\n",
      "\n",
      "CONFIG_PATH=\"config.ini\"\n",
      "\n",
      "xbxdb.init(xbxu.get_db_path(CONFIG_PATH))\n",
      "config = xbxc.Config(CONFIG_PATH)\n",
      "\n",
      "dbsession = xbxdb.scoped_session()\n"
     ],
     "language": "python",
     "metadata": {},
     "outputs": [],
     "prompt_number": 1
    },
    {
     "cell_type": "markdown",
     "metadata": {},
     "source": [
      "List RunSessions, ordered by descending timestamp"
     ]
    },
    {
     "cell_type": "code",
     "collapsed": false,
     "input": [
      "s=dbsession\n",
      "l = s.query(xbxr.RunSession).order_by(xbxr.RunSession.timestamp.desc())\n",
      "print([i.timestamp for i in l])"
     ],
     "language": "python",
     "metadata": {},
     "outputs": [
      {
       "output_type": "stream",
       "stream": "stdout",
       "text": [
        "[datetime.datetime(2016, 12, 2, 22, 38, 2, 458804)]\n"
       ]
      }
     ],
     "prompt_number": 2
    },
    {
     "cell_type": "markdown",
     "metadata": {},
     "source": [
      "Print latest RunSession"
     ]
    },
    {
     "cell_type": "code",
     "collapsed": false,
     "input": [
      "rs=l.first()\n",
      "print(rs)"
     ],
     "language": "python",
     "metadata": {},
     "outputs": [
      {
       "output_type": "stream",
       "stream": "stdout",
       "text": [
        "({'build_session_id': 3, 'config_hash': 'ab41539b8b851cf0746a44d7be30ca023384ea4bb19b6f086f63114d806e1108', 'host': 'ubuntu-pc', 'id': 1, 'timestamp': datetime.datetime(2016, 12, 2, 22, 38, 2, 458804), 'xbh_mac': '001AB602FFA9', 'xbh_rev': 'd9350af', 'xbx_version': '12a34a63309ac2bc477cc798b8adc06762739d2f'}, ['drift_measurements', 'build_execs', 'build_session', 'config'])\n"
       ]
      }
     ],
     "prompt_number": 3
    },
    {
     "cell_type": "markdown",
     "metadata": {},
     "source": [
      "We have overridden the `__repr__` function in the base class for SqlAlchemy tables to print out the type, a dictionary of contents, and a list of relations.\n",
      "\n",
      "Let's print out all build executions:"
     ]
    },
    {
     "cell_type": "code",
     "collapsed": false,
     "input": [
      "print([i for i in rs.build_execs])"
     ],
     "language": "python",
     "metadata": {},
     "outputs": [
      {
       "output_type": "stream",
       "stream": "stdout",
       "text": [
        "[({'build_id': 19, 'id': 1, 'run_session_id': 1, 'test_ok': True}, ['build', 'runs', 'run_session'])]\n"
       ]
      }
     ],
     "prompt_number": 4
    },
    {
     "cell_type": "markdown",
     "metadata": {},
     "source": [
      "Not much information here. Let's print out information on the builds associated with the build executions:"
     ]
    },
    {
     "cell_type": "code",
     "collapsed": false,
     "input": [
      "print([(i, i.build) for i in rs.build_execs])"
     ],
     "language": "python",
     "metadata": {},
     "outputs": [
      {
       "output_type": "stream",
       "stream": "stdout",
       "text": [
        "[(({'build_id': 19, 'id': 1, 'run_session_id': 1, 'test_ok': True}, ['build', 'runs', 'run_session']), ({'bss': 5320, 'build_ok': True, 'build_session_id': 3, 'compiler_idx': 0, 'data': 0, 'exe_path': 'ek-tm4c123gxl_16mhz/crypto_aead/icepole128v1/ref/0/xbdprog.bin', 'hex_checksum': 'f0fee4952c9e6175acbe366846ca6ebda573998efca268df5cca1390474edcf6', 'hex_path': 'ek-tm4c123gxl_16mhz/crypto_aead/icepole128v1/ref/0/xbdprog.hex', 'id': 19, 'implementation_hash': 'c05a01689d79fca13908d316cbf33f52604daa122d16f0779b6228507f643374', 'log': b'LINK\\nPOSTLINK\\n', 'operation_name': 'crypto_aead', 'parallel_make': False, 'platform_hash': '659a6aa136e8dd11fe7a6f3673b536f00286703e58cffaa09f7182a0f5a9d538', 'primitive_name': 'icepole128v1', 'rebuilt': True, 'text': 20624, 'timestamp': datetime.datetime(2016, 12, 2, 22, 37, 46, 588863), 'work_path': 'ek-tm4c123gxl_16mhz/crypto_aead/icepole128v1/ref/0'}, ['platform', 'compiler', 'operation', 'primitive', 'implementation', 'build_session']))]\n"
       ]
      }
     ],
     "prompt_number": 5
    },
    {
     "cell_type": "markdown",
     "metadata": {},
     "source": [
      "Not very readable. Let's use prettyprint:"
     ]
    },
    {
     "cell_type": "code",
     "collapsed": false,
     "input": [
      "import pprint\n",
      "pp = pprint.PrettyPrinter(indent=4)\n",
      "pp.pprint([(i, i.build) for i in rs.build_execs])"
     ],
     "language": "python",
     "metadata": {},
     "outputs": [
      {
       "output_type": "stream",
       "stream": "stdout",
       "text": [
        "[   (   ({'build_id': 19, 'id': 1, 'run_session_id': 1, 'test_ok': True}, ['build', 'runs', 'run_session']),\n",
        "        ({'bss': 5320, 'build_ok': True, 'build_session_id': 3, 'compiler_idx': 0, 'data': 0, 'exe_path': 'ek-tm4c123gxl_16mhz/crypto_aead/icepole128v1/ref/0/xbdprog.bin', 'hex_checksum': 'f0fee4952c9e6175acbe366846ca6ebda573998efca268df5cca1390474edcf6', 'hex_path': 'ek-tm4c123gxl_16mhz/crypto_aead/icepole128v1/ref/0/xbdprog.hex', 'id': 19, 'implementation_hash': 'c05a01689d79fca13908d316cbf33f52604daa122d16f0779b6228507f643374', 'log': b'LINK\\nPOSTLINK\\n', 'operation_name': 'crypto_aead', 'parallel_make': False, 'platform_hash': '659a6aa136e8dd11fe7a6f3673b536f00286703e58cffaa09f7182a0f5a9d538', 'primitive_name': 'icepole128v1', 'rebuilt': True, 'text': 20624, 'timestamp': datetime.datetime(2016, 12, 2, 22, 37, 46, 588863), 'work_path': 'ek-tm4c123gxl_16mhz/crypto_aead/icepole128v1/ref/0'}, ['platform', 'compiler', 'operation', 'primitive', 'implementation', 'build_session']))]\n"
       ]
      }
     ],
     "prompt_number": 6
    },
    {
     "cell_type": "markdown",
     "metadata": {},
     "source": [
      "Better, but not good. The overridden repr implementation is supposed to be `eval`able. Note that we need to import datetime and call repr explicitly. Let's try:"
     ]
    },
    {
     "cell_type": "code",
     "collapsed": false,
     "input": [
      "import datetime\n",
      "pp.pprint([(eval(repr(i)), eval(repr(i.build))) for i in rs.build_execs])"
     ],
     "language": "python",
     "metadata": {},
     "outputs": [
      {
       "output_type": "stream",
       "stream": "stdout",
       "text": [
        "[   (   (   {'build_id': 19, 'id': 1, 'run_session_id': 1, 'test_ok': True},\n",
        "            ['build', 'runs', 'run_session']),\n",
        "        (   {   'bss': 5320,\n",
        "                'build_ok': True,\n",
        "                'build_session_id': 3,\n",
        "                'compiler_idx': 0,\n",
        "                'data': 0,\n",
        "                'exe_path': 'ek-tm4c123gxl_16mhz/crypto_aead/icepole128v1/ref/0/xbdprog.bin',\n",
        "                'hex_checksum': 'f0fee4952c9e6175acbe366846ca6ebda573998efca268df5cca1390474edcf6',\n",
        "                'hex_path': 'ek-tm4c123gxl_16mhz/crypto_aead/icepole128v1/ref/0/xbdprog.hex',\n",
        "                'id': 19,\n",
        "                'implementation_hash': 'c05a01689d79fca13908d316cbf33f52604daa122d16f0779b6228507f643374',\n",
        "                'log': b'LINK\\nPOSTLINK\\n',\n",
        "                'operation_name': 'crypto_aead',\n",
        "                'parallel_make': False,\n",
        "                'platform_hash': '659a6aa136e8dd11fe7a6f3673b536f00286703e58cffaa09f7182a0f5a9d538',\n",
        "                'primitive_name': 'icepole128v1',\n",
        "                'rebuilt': True,\n",
        "                'text': 20624,\n",
        "                'timestamp': datetime.datetime(2016, 12, 2, 22, 37, 46, 588863),\n",
        "                'work_path': 'ek-tm4c123gxl_16mhz/crypto_aead/icepole128v1/ref/0'},\n",
        "            [   'platform',\n",
        "                'compiler',\n",
        "                'operation',\n",
        "                'primitive',\n",
        "                'implementation',\n",
        "                'build_session']))]\n"
       ]
      }
     ],
     "prompt_number": 7
    },
    {
     "cell_type": "markdown",
     "metadata": {},
     "source": [
      "Much better. We can see the 0hash and icepole implementations succeeded but the 0hash implementation failed. The log is mostly empty since we've rebuilt and thus there's not much makefile output. \n",
      "\n",
      "We want to know why the aesgcm implementations failed. To do this, we must examine the runs relation."
     ]
    },
    {
     "cell_type": "code",
     "collapsed": false,
     "input": [
      "import datetime\n",
      "for i in rs.build_execs:\n",
      "    if not i.test_ok:\n",
      "        for j in i.runs:\n",
      "            print(j)"
     ],
     "language": "python",
     "metadata": {},
     "outputs": [],
     "prompt_number": 8
    },
    {
     "cell_type": "markdown",
     "metadata": {},
     "source": [
      "Too much stuff. Let's clean it up:"
     ]
    },
    {
     "cell_type": "code",
     "collapsed": false,
     "input": [
      "import datetime\n",
      "for i in rs.build_execs:\n",
      "    if not i.test_ok:\n",
      "        for j in i.runs:\n",
      "            print('{}: {}'.format(i.build.buildid,j.checksumfail_cause))"
     ],
     "language": "python",
     "metadata": {},
     "outputs": [],
     "prompt_number": 9
    },
    {
     "cell_type": "code",
     "collapsed": true,
     "input": [],
     "language": "python",
     "metadata": {},
     "outputs": [],
     "prompt_number": 9
    },
    {
     "cell_type": "code",
     "collapsed": false,
     "input": [],
     "language": "python",
     "metadata": {},
     "outputs": []
    }
   ],
   "metadata": {}
  }
 ]
}