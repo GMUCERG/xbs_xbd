{
 "cells": [
  {
   "cell_type": "markdown",
   "metadata": {},
   "source": [
    "Startup stuff, sourced from `startup.ipy`"
   ]
  },
  {
   "cell_type": "code",
   "execution_count": 1,
   "metadata": {
    "collapsed": false
   },
   "outputs": [],
   "source": [
    "# %load startup.ipy\n",
    "#! /usr/bin/env python3\n",
    "\n",
    "import sys\n",
    "sys.path.append('./python')\n",
    "\n",
    "import logging.config\n",
    "import os\n",
    "\n",
    "import xbx.database as xbxdb\n",
    "import xbx.util as xbxu\n",
    "import xbx.config as xbxc\n",
    "import xbx.build as xbxb\n",
    "import xbx.run as xbxr\n",
    "\n",
    "logging.config.fileConfig(\"logging.ini\", disable_existing_loggers=False)\n",
    "\n",
    "CONFIG_PATH=\"config.ini\"\n",
    "\n",
    "xbxdb.init(xbxu.get_db_path(CONFIG_PATH))\n",
    "config = xbxc.Config(CONFIG_PATH)\n",
    "\n",
    "dbsession = xbxdb.scoped_session()\n"
   ]
  },
  {
   "cell_type": "markdown",
   "metadata": {},
   "source": [
    "List RunSessions, ordered by descending timestamp"
   ]
  },
  {
   "cell_type": "code",
   "execution_count": 2,
   "metadata": {
    "collapsed": false
   },
   "outputs": [
    {
     "name": "stdout",
     "output_type": "stream",
     "text": [
      "[datetime.datetime(2015, 4, 23, 18, 2, 52, 424848), datetime.datetime(2015, 4, 23, 16, 23, 9, 976050)]\n"
     ]
    }
   ],
   "source": [
    "s=dbsession\n",
    "l = s.query(xbxr.RunSession).order_by(xbxr.RunSession.timestamp.desc())\n",
    "print([i.timestamp for i in l])"
   ]
  },
  {
   "cell_type": "markdown",
   "metadata": {},
   "source": [
    "Print latest RunSession"
   ]
  },
  {
   "cell_type": "code",
   "execution_count": 3,
   "metadata": {
    "collapsed": false
   },
   "outputs": [
    {
     "name": "stdout",
     "output_type": "stream",
     "text": [
      "({'timestamp': datetime.datetime(2015, 4, 23, 18, 2, 52, 424848), 'xbh_mac': '001AB602D065', 'xbh_rev': 'e57b1b6', 'xbx_version': '4e5a30f94bcdb8670ae6d1a0fbb0aa1b54389142', 'host': 'zeus', 'build_session_id': 5, 'config_hash': 'eec557a96a561de008988fa1da87cca2e009340a69d9e1fbef49d0033276bc93', 'id': 2},['drift_measurements', 'build_execs', 'build_session', 'config'])\n"
     ]
    }
   ],
   "source": [
    "rs=l.first()\n",
    "print(rs)"
   ]
  },
  {
   "cell_type": "markdown",
   "metadata": {},
   "source": [
    "We have overridden the `__repr__` function in the base class for SqlAlchemy tables to print out the type, a dictionary of contents, and a list of relations.\n",
    "\n",
    "Let's print out all build executions:"
   ]
  },
  {
   "cell_type": "code",
   "execution_count": 4,
   "metadata": {
    "collapsed": false
   },
   "outputs": [
    {
     "name": "stdout",
     "output_type": "stream",
     "text": [
      "[({'build_id': 16, 'test_ok': True, 'run_session_id': 2, 'id': 2},['build', 'runs', 'run_session']), ({'build_id': 17, 'test_ok': False, 'run_session_id': 2, 'id': 4},['build', 'runs', 'run_session']), ({'build_id': 18, 'test_ok': False, 'run_session_id': 2, 'id': 3},['build', 'runs', 'run_session']), ({'build_id': 19, 'test_ok': True, 'run_session_id': 2, 'id': 5},['build', 'runs', 'run_session'])]\n"
     ]
    }
   ],
   "source": [
    "print([i for i in rs.build_execs])"
   ]
  },
  {
   "cell_type": "markdown",
   "metadata": {},
   "source": [
    "Not much information here. Let's print out information on the builds associated with the build executions:"
   ]
  },
  {
   "cell_type": "code",
   "execution_count": 5,
   "metadata": {
    "collapsed": false
   },
   "outputs": [
    {
     "name": "stdout",
     "output_type": "stream",
     "text": [
      "[(({'build_id': 16, 'test_ok': True, 'run_session_id': 2, 'id': 2},['build', 'runs', 'run_session']), ({'timestamp': datetime.datetime(2015, 4, 23, 17, 53, 48, 579364), 'compiler_idx': 0, 'primitive_name': '0cipher', 'data': 0, 'log': b'LINK\\nPOSTLINK\\n', 'operation_name': 'crypto_aead', 'id': 16, 'hex_path': 'ek-tm4c123gxl_16mhz/crypto_aead/0cipher/empty/0/xbdprog.hex', 'build_ok': True, 'hex_checksum': '543c6c94056482ac551f46579b6c185a2ee2e3b33fe8d08af334e71c84f44a12', 'work_path': 'ek-tm4c123gxl_16mhz/crypto_aead/0cipher/empty/0', 'platform_hash': '4315375386478985adb47e513968dc493b5731b2b8c24c1f91ef6abbc146b4e7', 'exe_path': 'ek-tm4c123gxl_16mhz/crypto_aead/0cipher/empty/0/xbdprog.bin', 'text': 14380, 'bss': 5320, 'implementation_hash': '1709ac0c04e3657b91bce5f4c570627b89fc1cfd6c943f950b8cade256ef05ec', 'build_session_id': 5, 'rebuilt': True, 'parallel_make': False},['platform', 'compiler', 'operation', 'primitive', 'implementation', 'build_session'])), (({'build_id': 17, 'test_ok': False, 'run_session_id': 2, 'id': 4},['build', 'runs', 'run_session']), ({'timestamp': datetime.datetime(2015, 4, 23, 17, 53, 48, 698510), 'compiler_idx': 0, 'primitive_name': 'aes256gcmv1', 'data': 0, 'log': b'LINK\\nPOSTLINK\\n', 'operation_name': 'crypto_aead', 'id': 17, 'hex_path': 'ek-tm4c123gxl_16mhz/crypto_aead/aes256gcmv1/ref/0/xbdprog.hex', 'build_ok': True, 'hex_checksum': 'a3d8c4c450af1e08f45ac8dffeb092bb9fb0931a309c4097ba78db4a47b9dc60', 'work_path': 'ek-tm4c123gxl_16mhz/crypto_aead/aes256gcmv1/ref/0', 'platform_hash': '4315375386478985adb47e513968dc493b5731b2b8c24c1f91ef6abbc146b4e7', 'exe_path': 'ek-tm4c123gxl_16mhz/crypto_aead/aes256gcmv1/ref/0/xbdprog.bin', 'text': 22564, 'bss': 5336, 'implementation_hash': 'e73388bbbdfc7a5e80b2bcc35674314ae9aea7273aed7e78c55cea2fcaf7c3de', 'build_session_id': 5, 'rebuilt': True, 'parallel_make': False},['platform', 'compiler', 'operation', 'primitive', 'implementation', 'build_session'])), (({'build_id': 18, 'test_ok': False, 'run_session_id': 2, 'id': 3},['build', 'runs', 'run_session']), ({'timestamp': datetime.datetime(2015, 4, 23, 17, 53, 48, 864897), 'compiler_idx': 0, 'primitive_name': 'aes128gcmv1', 'data': 0, 'log': b'LINK\\nPOSTLINK\\n', 'operation_name': 'crypto_aead', 'id': 18, 'hex_path': 'ek-tm4c123gxl_16mhz/crypto_aead/aes128gcmv1/ref/0/xbdprog.hex', 'build_ok': True, 'hex_checksum': '311861db075ac7015c86ceaa3d52573a3d998f0ab017671f7ba26c95e6e2c6e6', 'work_path': 'ek-tm4c123gxl_16mhz/crypto_aead/aes128gcmv1/ref/0', 'platform_hash': '4315375386478985adb47e513968dc493b5731b2b8c24c1f91ef6abbc146b4e7', 'exe_path': 'ek-tm4c123gxl_16mhz/crypto_aead/aes128gcmv1/ref/0/xbdprog.bin', 'text': 22468, 'bss': 5336, 'implementation_hash': 'dbf498177a558fbff4e146982878b03e4de8d9a0b85edb4aba9171e59295d869', 'build_session_id': 5, 'rebuilt': True, 'parallel_make': False},['platform', 'compiler', 'operation', 'primitive', 'implementation', 'build_session'])), (({'build_id': 19, 'test_ok': True, 'run_session_id': 2, 'id': 5},['build', 'runs', 'run_session']), ({'timestamp': datetime.datetime(2015, 4, 23, 17, 53, 49, 19412), 'compiler_idx': 0, 'primitive_name': 'icepole128v1', 'data': 0, 'log': b'LINK\\nPOSTLINK\\n', 'operation_name': 'crypto_aead', 'id': 19, 'hex_path': 'ek-tm4c123gxl_16mhz/crypto_aead/icepole128v1/ref/0/xbdprog.hex', 'build_ok': True, 'hex_checksum': 'a09d0ed1f5df6df5cb13fa0a7234e0e7f30eb05e8bf5c06b579f4be82b2cea15', 'work_path': 'ek-tm4c123gxl_16mhz/crypto_aead/icepole128v1/ref/0', 'platform_hash': '4315375386478985adb47e513968dc493b5731b2b8c24c1f91ef6abbc146b4e7', 'exe_path': 'ek-tm4c123gxl_16mhz/crypto_aead/icepole128v1/ref/0/xbdprog.bin', 'text': 20632, 'bss': 5320, 'implementation_hash': 'c05a01689d79fca13908d316cbf33f52604daa122d16f0779b6228507f643374', 'build_session_id': 5, 'rebuilt': True, 'parallel_make': False},['platform', 'compiler', 'operation', 'primitive', 'implementation', 'build_session']))]\n"
     ]
    }
   ],
   "source": [
    "print([(i, i.build) for i in rs.build_execs])"
   ]
  },
  {
   "cell_type": "markdown",
   "metadata": {},
   "source": [
    "Not very readable. Let's use prettyprint:"
   ]
  },
  {
   "cell_type": "code",
   "execution_count": 6,
   "metadata": {
    "collapsed": false
   },
   "outputs": [
    {
     "name": "stdout",
     "output_type": "stream",
     "text": [
      "[   (   ({'build_id': 16, 'test_ok': True, 'run_session_id': 2, 'id': 2},['build', 'runs', 'run_session']),\n",
      "        ({'timestamp': datetime.datetime(2015, 4, 23, 17, 53, 48, 579364), 'compiler_idx': 0, 'primitive_name': '0cipher', 'data': 0, 'log': b'LINK\\nPOSTLINK\\n', 'operation_name': 'crypto_aead', 'id': 16, 'hex_path': 'ek-tm4c123gxl_16mhz/crypto_aead/0cipher/empty/0/xbdprog.hex', 'build_ok': True, 'hex_checksum': '543c6c94056482ac551f46579b6c185a2ee2e3b33fe8d08af334e71c84f44a12', 'work_path': 'ek-tm4c123gxl_16mhz/crypto_aead/0cipher/empty/0', 'platform_hash': '4315375386478985adb47e513968dc493b5731b2b8c24c1f91ef6abbc146b4e7', 'exe_path': 'ek-tm4c123gxl_16mhz/crypto_aead/0cipher/empty/0/xbdprog.bin', 'text': 14380, 'bss': 5320, 'implementation_hash': '1709ac0c04e3657b91bce5f4c570627b89fc1cfd6c943f950b8cade256ef05ec', 'build_session_id': 5, 'rebuilt': True, 'parallel_make': False},['platform', 'compiler', 'operation', 'primitive', 'implementation', 'build_session'])),\n",
      "    (   ({'build_id': 17, 'test_ok': False, 'run_session_id': 2, 'id': 4},['build', 'runs', 'run_session']),\n",
      "        ({'timestamp': datetime.datetime(2015, 4, 23, 17, 53, 48, 698510), 'compiler_idx': 0, 'primitive_name': 'aes256gcmv1', 'data': 0, 'log': b'LINK\\nPOSTLINK\\n', 'operation_name': 'crypto_aead', 'id': 17, 'hex_path': 'ek-tm4c123gxl_16mhz/crypto_aead/aes256gcmv1/ref/0/xbdprog.hex', 'build_ok': True, 'hex_checksum': 'a3d8c4c450af1e08f45ac8dffeb092bb9fb0931a309c4097ba78db4a47b9dc60', 'work_path': 'ek-tm4c123gxl_16mhz/crypto_aead/aes256gcmv1/ref/0', 'platform_hash': '4315375386478985adb47e513968dc493b5731b2b8c24c1f91ef6abbc146b4e7', 'exe_path': 'ek-tm4c123gxl_16mhz/crypto_aead/aes256gcmv1/ref/0/xbdprog.bin', 'text': 22564, 'bss': 5336, 'implementation_hash': 'e73388bbbdfc7a5e80b2bcc35674314ae9aea7273aed7e78c55cea2fcaf7c3de', 'build_session_id': 5, 'rebuilt': True, 'parallel_make': False},['platform', 'compiler', 'operation', 'primitive', 'implementation', 'build_session'])),\n",
      "    (   ({'build_id': 18, 'test_ok': False, 'run_session_id': 2, 'id': 3},['build', 'runs', 'run_session']),\n",
      "        ({'timestamp': datetime.datetime(2015, 4, 23, 17, 53, 48, 864897), 'compiler_idx': 0, 'primitive_name': 'aes128gcmv1', 'data': 0, 'log': b'LINK\\nPOSTLINK\\n', 'operation_name': 'crypto_aead', 'id': 18, 'hex_path': 'ek-tm4c123gxl_16mhz/crypto_aead/aes128gcmv1/ref/0/xbdprog.hex', 'build_ok': True, 'hex_checksum': '311861db075ac7015c86ceaa3d52573a3d998f0ab017671f7ba26c95e6e2c6e6', 'work_path': 'ek-tm4c123gxl_16mhz/crypto_aead/aes128gcmv1/ref/0', 'platform_hash': '4315375386478985adb47e513968dc493b5731b2b8c24c1f91ef6abbc146b4e7', 'exe_path': 'ek-tm4c123gxl_16mhz/crypto_aead/aes128gcmv1/ref/0/xbdprog.bin', 'text': 22468, 'bss': 5336, 'implementation_hash': 'dbf498177a558fbff4e146982878b03e4de8d9a0b85edb4aba9171e59295d869', 'build_session_id': 5, 'rebuilt': True, 'parallel_make': False},['platform', 'compiler', 'operation', 'primitive', 'implementation', 'build_session'])),\n",
      "    (   ({'build_id': 19, 'test_ok': True, 'run_session_id': 2, 'id': 5},['build', 'runs', 'run_session']),\n",
      "        ({'timestamp': datetime.datetime(2015, 4, 23, 17, 53, 49, 19412), 'compiler_idx': 0, 'primitive_name': 'icepole128v1', 'data': 0, 'log': b'LINK\\nPOSTLINK\\n', 'operation_name': 'crypto_aead', 'id': 19, 'hex_path': 'ek-tm4c123gxl_16mhz/crypto_aead/icepole128v1/ref/0/xbdprog.hex', 'build_ok': True, 'hex_checksum': 'a09d0ed1f5df6df5cb13fa0a7234e0e7f30eb05e8bf5c06b579f4be82b2cea15', 'work_path': 'ek-tm4c123gxl_16mhz/crypto_aead/icepole128v1/ref/0', 'platform_hash': '4315375386478985adb47e513968dc493b5731b2b8c24c1f91ef6abbc146b4e7', 'exe_path': 'ek-tm4c123gxl_16mhz/crypto_aead/icepole128v1/ref/0/xbdprog.bin', 'text': 20632, 'bss': 5320, 'implementation_hash': 'c05a01689d79fca13908d316cbf33f52604daa122d16f0779b6228507f643374', 'build_session_id': 5, 'rebuilt': True, 'parallel_make': False},['platform', 'compiler', 'operation', 'primitive', 'implementation', 'build_session']))]\n"
     ]
    }
   ],
   "source": [
    "import pprint\n",
    "pp = pprint.PrettyPrinter(indent=4)\n",
    "pp.pprint([(i, i.build) for i in rs.build_execs])"
   ]
  },
  {
   "cell_type": "markdown",
   "metadata": {},
   "source": [
    "Better, but not good. The overridden repr implementation is supposed to be `eval`able. Note that we need to import datetime and call repr explicitly. Let's try:"
   ]
  },
  {
   "cell_type": "code",
   "execution_count": 9,
   "metadata": {
    "collapsed": false
   },
   "outputs": [
    {
     "name": "stdout",
     "output_type": "stream",
     "text": [
      "[   (   (   {'build_id': 16, 'id': 2, 'run_session_id': 2, 'test_ok': True},\n",
      "            ['build', 'runs', 'run_session']),\n",
      "        (   {   'bss': 5320,\n",
      "                'build_ok': True,\n",
      "                'build_session_id': 5,\n",
      "                'compiler_idx': 0,\n",
      "                'data': 0,\n",
      "                'exe_path': 'ek-tm4c123gxl_16mhz/crypto_aead/0cipher/empty/0/xbdprog.bin',\n",
      "                'hex_checksum': '543c6c94056482ac551f46579b6c185a2ee2e3b33fe8d08af334e71c84f44a12',\n",
      "                'hex_path': 'ek-tm4c123gxl_16mhz/crypto_aead/0cipher/empty/0/xbdprog.hex',\n",
      "                'id': 16,\n",
      "                'implementation_hash': '1709ac0c04e3657b91bce5f4c570627b89fc1cfd6c943f950b8cade256ef05ec',\n",
      "                'log': b'LINK\\nPOSTLINK\\n',\n",
      "                'operation_name': 'crypto_aead',\n",
      "                'parallel_make': False,\n",
      "                'platform_hash': '4315375386478985adb47e513968dc493b5731b2b8c24c1f91ef6abbc146b4e7',\n",
      "                'primitive_name': '0cipher',\n",
      "                'rebuilt': True,\n",
      "                'text': 14380,\n",
      "                'timestamp': datetime.datetime(2015, 4, 23, 17, 53, 48, 579364),\n",
      "                'work_path': 'ek-tm4c123gxl_16mhz/crypto_aead/0cipher/empty/0'},\n",
      "            [   'platform',\n",
      "                'compiler',\n",
      "                'operation',\n",
      "                'primitive',\n",
      "                'implementation',\n",
      "                'build_session'])),\n",
      "    (   (   {'build_id': 17, 'id': 4, 'run_session_id': 2, 'test_ok': False},\n",
      "            ['build', 'runs', 'run_session']),\n",
      "        (   {   'bss': 5336,\n",
      "                'build_ok': True,\n",
      "                'build_session_id': 5,\n",
      "                'compiler_idx': 0,\n",
      "                'data': 0,\n",
      "                'exe_path': 'ek-tm4c123gxl_16mhz/crypto_aead/aes256gcmv1/ref/0/xbdprog.bin',\n",
      "                'hex_checksum': 'a3d8c4c450af1e08f45ac8dffeb092bb9fb0931a309c4097ba78db4a47b9dc60',\n",
      "                'hex_path': 'ek-tm4c123gxl_16mhz/crypto_aead/aes256gcmv1/ref/0/xbdprog.hex',\n",
      "                'id': 17,\n",
      "                'implementation_hash': 'e73388bbbdfc7a5e80b2bcc35674314ae9aea7273aed7e78c55cea2fcaf7c3de',\n",
      "                'log': b'LINK\\nPOSTLINK\\n',\n",
      "                'operation_name': 'crypto_aead',\n",
      "                'parallel_make': False,\n",
      "                'platform_hash': '4315375386478985adb47e513968dc493b5731b2b8c24c1f91ef6abbc146b4e7',\n",
      "                'primitive_name': 'aes256gcmv1',\n",
      "                'rebuilt': True,\n",
      "                'text': 22564,\n",
      "                'timestamp': datetime.datetime(2015, 4, 23, 17, 53, 48, 698510),\n",
      "                'work_path': 'ek-tm4c123gxl_16mhz/crypto_aead/aes256gcmv1/ref/0'},\n",
      "            [   'platform',\n",
      "                'compiler',\n",
      "                'operation',\n",
      "                'primitive',\n",
      "                'implementation',\n",
      "                'build_session'])),\n",
      "    (   (   {'build_id': 18, 'id': 3, 'run_session_id': 2, 'test_ok': False},\n",
      "            ['build', 'runs', 'run_session']),\n",
      "        (   {   'bss': 5336,\n",
      "                'build_ok': True,\n",
      "                'build_session_id': 5,\n",
      "                'compiler_idx': 0,\n",
      "                'data': 0,\n",
      "                'exe_path': 'ek-tm4c123gxl_16mhz/crypto_aead/aes128gcmv1/ref/0/xbdprog.bin',\n",
      "                'hex_checksum': '311861db075ac7015c86ceaa3d52573a3d998f0ab017671f7ba26c95e6e2c6e6',\n",
      "                'hex_path': 'ek-tm4c123gxl_16mhz/crypto_aead/aes128gcmv1/ref/0/xbdprog.hex',\n",
      "                'id': 18,\n",
      "                'implementation_hash': 'dbf498177a558fbff4e146982878b03e4de8d9a0b85edb4aba9171e59295d869',\n",
      "                'log': b'LINK\\nPOSTLINK\\n',\n",
      "                'operation_name': 'crypto_aead',\n",
      "                'parallel_make': False,\n",
      "                'platform_hash': '4315375386478985adb47e513968dc493b5731b2b8c24c1f91ef6abbc146b4e7',\n",
      "                'primitive_name': 'aes128gcmv1',\n",
      "                'rebuilt': True,\n",
      "                'text': 22468,\n",
      "                'timestamp': datetime.datetime(2015, 4, 23, 17, 53, 48, 864897),\n",
      "                'work_path': 'ek-tm4c123gxl_16mhz/crypto_aead/aes128gcmv1/ref/0'},\n",
      "            [   'platform',\n",
      "                'compiler',\n",
      "                'operation',\n",
      "                'primitive',\n",
      "                'implementation',\n",
      "                'build_session'])),\n",
      "    (   (   {'build_id': 19, 'id': 5, 'run_session_id': 2, 'test_ok': True},\n",
      "            ['build', 'runs', 'run_session']),\n",
      "        (   {   'bss': 5320,\n",
      "                'build_ok': True,\n",
      "                'build_session_id': 5,\n",
      "                'compiler_idx': 0,\n",
      "                'data': 0,\n",
      "                'exe_path': 'ek-tm4c123gxl_16mhz/crypto_aead/icepole128v1/ref/0/xbdprog.bin',\n",
      "                'hex_checksum': 'a09d0ed1f5df6df5cb13fa0a7234e0e7f30eb05e8bf5c06b579f4be82b2cea15',\n",
      "                'hex_path': 'ek-tm4c123gxl_16mhz/crypto_aead/icepole128v1/ref/0/xbdprog.hex',\n",
      "                'id': 19,\n",
      "                'implementation_hash': 'c05a01689d79fca13908d316cbf33f52604daa122d16f0779b6228507f643374',\n",
      "                'log': b'LINK\\nPOSTLINK\\n',\n",
      "                'operation_name': 'crypto_aead',\n",
      "                'parallel_make': False,\n",
      "                'platform_hash': '4315375386478985adb47e513968dc493b5731b2b8c24c1f91ef6abbc146b4e7',\n",
      "                'primitive_name': 'icepole128v1',\n",
      "                'rebuilt': True,\n",
      "                'text': 20632,\n",
      "                'timestamp': datetime.datetime(2015, 4, 23, 17, 53, 49, 19412),\n",
      "                'work_path': 'ek-tm4c123gxl_16mhz/crypto_aead/icepole128v1/ref/0'},\n",
      "            [   'platform',\n",
      "                'compiler',\n",
      "                'operation',\n",
      "                'primitive',\n",
      "                'implementation',\n",
      "                'build_session']))]\n"
     ]
    }
   ],
   "source": [
    "import datetime\n",
    "pp.pprint([(eval(repr(i)), eval(repr(i.build))) for i in rs.build_execs])"
   ]
  },
  {
   "cell_type": "markdown",
   "metadata": {},
   "source": [
    "Much better. We can see the 0hash and icepole implementations succeeded but the 0hash implementation failed. The log is mostly empty since we've rebuilt and thus there's not much makefile output. "
   ]
  },
  {
   "cell_type": "code",
   "execution_count": null,
   "metadata": {
    "collapsed": true
   },
   "outputs": [],
   "source": []
  }
 ],
 "metadata": {
  "kernelspec": {
   "display_name": "Python 3",
   "language": "python",
   "name": "python3"
  },
  "language_info": {
   "codemirror_mode": {
    "name": "ipython",
    "version": 3
   },
   "file_extension": ".py",
   "mimetype": "text/x-python",
   "name": "python",
   "nbconvert_exporter": "python",
   "pygments_lexer": "ipython3",
   "version": "3.4.3"
  }
 },
 "nbformat": 4,
 "nbformat_minor": 0
}
